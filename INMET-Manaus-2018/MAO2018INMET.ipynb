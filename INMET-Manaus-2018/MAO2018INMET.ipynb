{
 "cells": [
  {
   "cell_type": "code",
   "execution_count": 1,
   "metadata": {
    "collapsed": true
   },
   "outputs": [],
   "source": [
    "import pandas  as pd \n",
    "import numpy   as np\n",
    "import seaborn as sns\n",
    "\n",
    "import matplotlib.pyplot as plt"
   ]
  },
  {
   "cell_type": "markdown",
   "metadata": {},
   "source": [
    "## Abrir arquivo"
   ]
  },
  {
   "cell_type": "code",
   "execution_count": 2,
   "metadata": {
    "collapsed": true
   },
   "outputs": [],
   "source": [
    "df = pd.read_csv('MAO2018INMET.csv')"
   ]
  },
  {
   "cell_type": "code",
   "execution_count": 3,
   "metadata": {},
   "outputs": [
    {
     "data": {
      "text/html": [
       "<div>\n",
       "<style scoped>\n",
       "    .dataframe tbody tr th:only-of-type {\n",
       "        vertical-align: middle;\n",
       "    }\n",
       "\n",
       "    .dataframe tbody tr th {\n",
       "        vertical-align: top;\n",
       "    }\n",
       "\n",
       "    .dataframe thead th {\n",
       "        text-align: right;\n",
       "    }\n",
       "</style>\n",
       "<table border=\"1\" class=\"dataframe\">\n",
       "  <thead>\n",
       "    <tr style=\"text-align: right;\">\n",
       "      <th></th>\n",
       "      <th>data</th>\n",
       "      <th>hora</th>\n",
       "      <th>temp_inst</th>\n",
       "      <th>temp_max</th>\n",
       "      <th>temp_min</th>\n",
       "      <th>umid_inst</th>\n",
       "      <th>umid_max</th>\n",
       "      <th>umid_min</th>\n",
       "      <th>pto_orvalho_inst</th>\n",
       "      <th>pto_orvalho_max</th>\n",
       "      <th>pto_orvalho_min</th>\n",
       "      <th>pressao</th>\n",
       "      <th>pressao_max</th>\n",
       "      <th>pressao_min</th>\n",
       "      <th>vento_vel</th>\n",
       "      <th>vento_direcao</th>\n",
       "      <th>vento_rajada</th>\n",
       "      <th>radiacao</th>\n",
       "      <th>precipitacao</th>\n",
       "    </tr>\n",
       "  </thead>\n",
       "  <tbody>\n",
       "    <tr>\n",
       "      <th>0</th>\n",
       "      <td>01/01/2018</td>\n",
       "      <td>0</td>\n",
       "      <td>24.9</td>\n",
       "      <td>25.4</td>\n",
       "      <td>24.8</td>\n",
       "      <td>88</td>\n",
       "      <td>89</td>\n",
       "      <td>87</td>\n",
       "      <td>22.9</td>\n",
       "      <td>23.2</td>\n",
       "      <td>22.8</td>\n",
       "      <td>1003.5</td>\n",
       "      <td>1003.5</td>\n",
       "      <td>1002.8</td>\n",
       "      <td>////</td>\n",
       "      <td>////</td>\n",
       "      <td>////</td>\n",
       "      <td>-3.08</td>\n",
       "      <td>0.0</td>\n",
       "    </tr>\n",
       "    <tr>\n",
       "      <th>1</th>\n",
       "      <td>01/01/2018</td>\n",
       "      <td>1</td>\n",
       "      <td>24.9</td>\n",
       "      <td>25.0</td>\n",
       "      <td>24.7</td>\n",
       "      <td>89</td>\n",
       "      <td>89</td>\n",
       "      <td>88</td>\n",
       "      <td>22.9</td>\n",
       "      <td>23.1</td>\n",
       "      <td>22.8</td>\n",
       "      <td>1004.9</td>\n",
       "      <td>1004.9</td>\n",
       "      <td>1003.5</td>\n",
       "      <td>////</td>\n",
       "      <td>////</td>\n",
       "      <td>////</td>\n",
       "      <td>-2.19</td>\n",
       "      <td>0.0</td>\n",
       "    </tr>\n",
       "    <tr>\n",
       "      <th>2</th>\n",
       "      <td>01/01/2018</td>\n",
       "      <td>2</td>\n",
       "      <td>24.7</td>\n",
       "      <td>25.0</td>\n",
       "      <td>24.6</td>\n",
       "      <td>90</td>\n",
       "      <td>90</td>\n",
       "      <td>89</td>\n",
       "      <td>23.0</td>\n",
       "      <td>23.1</td>\n",
       "      <td>22.8</td>\n",
       "      <td>1004.7</td>\n",
       "      <td>1005.1</td>\n",
       "      <td>1004.7</td>\n",
       "      <td>////</td>\n",
       "      <td>////</td>\n",
       "      <td>////</td>\n",
       "      <td>-1.51</td>\n",
       "      <td>0.0</td>\n",
       "    </tr>\n",
       "    <tr>\n",
       "      <th>3</th>\n",
       "      <td>01/01/2018</td>\n",
       "      <td>3</td>\n",
       "      <td>24.4</td>\n",
       "      <td>24.7</td>\n",
       "      <td>24.1</td>\n",
       "      <td>92</td>\n",
       "      <td>92</td>\n",
       "      <td>90</td>\n",
       "      <td>22.9</td>\n",
       "      <td>23.0</td>\n",
       "      <td>22.6</td>\n",
       "      <td>1005.0</td>\n",
       "      <td>1005.1</td>\n",
       "      <td>1004.7</td>\n",
       "      <td>////</td>\n",
       "      <td>////</td>\n",
       "      <td>////</td>\n",
       "      <td>-1.31</td>\n",
       "      <td>0.0</td>\n",
       "    </tr>\n",
       "    <tr>\n",
       "      <th>4</th>\n",
       "      <td>01/01/2018</td>\n",
       "      <td>4</td>\n",
       "      <td>24.4</td>\n",
       "      <td>24.6</td>\n",
       "      <td>24.2</td>\n",
       "      <td>92</td>\n",
       "      <td>92</td>\n",
       "      <td>91</td>\n",
       "      <td>23.0</td>\n",
       "      <td>23.1</td>\n",
       "      <td>22.8</td>\n",
       "      <td>1005.2</td>\n",
       "      <td>1005.2</td>\n",
       "      <td>1005.0</td>\n",
       "      <td>////</td>\n",
       "      <td>////</td>\n",
       "      <td>////</td>\n",
       "      <td>-1.28</td>\n",
       "      <td>0.0</td>\n",
       "    </tr>\n",
       "  </tbody>\n",
       "</table>\n",
       "</div>"
      ],
      "text/plain": [
       "         data  hora  temp_inst  temp_max  temp_min  umid_inst  umid_max  \\\n",
       "0  01/01/2018     0       24.9      25.4      24.8         88        89   \n",
       "1  01/01/2018     1       24.9      25.0      24.7         89        89   \n",
       "2  01/01/2018     2       24.7      25.0      24.6         90        90   \n",
       "3  01/01/2018     3       24.4      24.7      24.1         92        92   \n",
       "4  01/01/2018     4       24.4      24.6      24.2         92        92   \n",
       "\n",
       "   umid_min  pto_orvalho_inst  pto_orvalho_max  pto_orvalho_min  pressao  \\\n",
       "0        87              22.9             23.2             22.8   1003.5   \n",
       "1        88              22.9             23.1             22.8   1004.9   \n",
       "2        89              23.0             23.1             22.8   1004.7   \n",
       "3        90              22.9             23.0             22.6   1005.0   \n",
       "4        91              23.0             23.1             22.8   1005.2   \n",
       "\n",
       "   pressao_max  pressao_min vento_vel vento_direcao vento_rajada radiacao  \\\n",
       "0       1003.5       1002.8      ////          ////         ////    -3.08   \n",
       "1       1004.9       1003.5      ////          ////         ////    -2.19   \n",
       "2       1005.1       1004.7      ////          ////         ////    -1.51   \n",
       "3       1005.1       1004.7      ////          ////         ////    -1.31   \n",
       "4       1005.2       1005.0      ////          ////         ////    -1.28   \n",
       "\n",
       "   precipitacao  \n",
       "0           0.0  \n",
       "1           0.0  \n",
       "2           0.0  \n",
       "3           0.0  \n",
       "4           0.0  "
      ]
     },
     "execution_count": 3,
     "metadata": {},
     "output_type": "execute_result"
    }
   ],
   "source": [
    "df.head() # cabeçalho"
   ]
  },
  {
   "cell_type": "code",
   "execution_count": 4,
   "metadata": {},
   "outputs": [
    {
     "name": "stdout",
     "output_type": "stream",
     "text": [
      "Número de Valores (linhas): 8682 \n",
      "Número de Variáveis (colunas): 19\n"
     ]
    }
   ],
   "source": [
    "print(\"Número de Valores (linhas):\", df.shape[0],'\\n'\n",
    "      \"Número de Variáveis (colunas):\", df.shape[1])"
   ]
  },
  {
   "cell_type": "code",
   "execution_count": 5,
   "metadata": {
    "collapsed": true
   },
   "outputs": [],
   "source": [
    "#df['data'].unique() # todas as datas "
   ]
  },
  {
   "cell_type": "code",
   "execution_count": 6,
   "metadata": {},
   "outputs": [
    {
     "name": "stdout",
     "output_type": "stream",
     "text": [
      "Quantidade de dias: 365\n"
     ]
    }
   ],
   "source": [
    "print(\"Quantidade de dias:\", df['data'].unique().shape[0])"
   ]
  },
  {
   "cell_type": "markdown",
   "metadata": {},
   "source": [
    "Converter array de datas (importante para agrupar e fazer os cálculos depois)"
   ]
  },
  {
   "cell_type": "code",
   "execution_count": 7,
   "metadata": {
    "collapsed": true
   },
   "outputs": [],
   "source": [
    "datas = pd.to_datetime(df['data'], format='%d/%m/%Y')"
   ]
  },
  {
   "cell_type": "code",
   "execution_count": 8,
   "metadata": {
    "collapsed": true
   },
   "outputs": [],
   "source": [
    "dia = pd.DatetimeIndex(datas).day\n",
    "mes = pd.DatetimeIndex(datas).month"
   ]
  },
  {
   "cell_type": "markdown",
   "metadata": {},
   "source": [
    "## Média Diária"
   ]
  },
  {
   "cell_type": "code",
   "execution_count": 9,
   "metadata": {
    "collapsed": true
   },
   "outputs": [],
   "source": [
    "mediadiaria = df.groupby(datas) # agrupar por todos os dias"
   ]
  },
  {
   "cell_type": "code",
   "execution_count": 10,
   "metadata": {
    "collapsed": true
   },
   "outputs": [],
   "source": [
    "#mediadiaria.groups.keys()"
   ]
  },
  {
   "cell_type": "code",
   "execution_count": 11,
   "metadata": {
    "collapsed": true
   },
   "outputs": [],
   "source": [
    "mediadiaria = mediadiaria.mean() # média diária"
   ]
  },
  {
   "cell_type": "code",
   "execution_count": 12,
   "metadata": {
    "collapsed": true
   },
   "outputs": [],
   "source": [
    "temp_inst_dia =  mediadiaria['temp_inst']\n",
    "temp_max_dia  =  mediadiaria['temp_max']\n",
    "temp_min_dia  =  mediadiaria['temp_min']"
   ]
  },
  {
   "cell_type": "markdown",
   "metadata": {},
   "source": [
    "## Média Mensal"
   ]
  },
  {
   "cell_type": "code",
   "execution_count": 13,
   "metadata": {
    "collapsed": true
   },
   "outputs": [],
   "source": [
    "mediamensal = df.groupby(mes)"
   ]
  },
  {
   "cell_type": "code",
   "execution_count": 14,
   "metadata": {
    "collapsed": true
   },
   "outputs": [],
   "source": [
    "mediamensal = mediamensal.mean()"
   ]
  },
  {
   "cell_type": "markdown",
   "metadata": {},
   "source": [
    "## Acumulado Diário"
   ]
  },
  {
   "cell_type": "code",
   "execution_count": 15,
   "metadata": {
    "collapsed": true
   },
   "outputs": [],
   "source": [
    "acmdiario = df.groupby(datas) # agrupar por todos os dias"
   ]
  },
  {
   "cell_type": "code",
   "execution_count": 16,
   "metadata": {
    "collapsed": true
   },
   "outputs": [],
   "source": [
    "acmdiario = acmdiario.sum() # acumulado diário"
   ]
  },
  {
   "cell_type": "code",
   "execution_count": 17,
   "metadata": {
    "collapsed": true
   },
   "outputs": [],
   "source": [
    "prpdiaria = acmdiario['precipitacao']"
   ]
  },
  {
   "cell_type": "markdown",
   "metadata": {},
   "source": [
    "## Acumulado Mensal"
   ]
  },
  {
   "cell_type": "code",
   "execution_count": 18,
   "metadata": {
    "collapsed": true
   },
   "outputs": [],
   "source": [
    "acmmensal = df.groupby(mes) # agrupar por todos os meses"
   ]
  },
  {
   "cell_type": "code",
   "execution_count": 19,
   "metadata": {},
   "outputs": [
    {
     "data": {
      "text/plain": [
       "dict_keys([1, 2, 3, 4, 5, 6, 7, 8, 9, 10, 11, 12])"
      ]
     },
     "execution_count": 19,
     "metadata": {},
     "output_type": "execute_result"
    }
   ],
   "source": [
    "acmmensal.groups.keys()\n",
    "##acmmensal.get_group(12)"
   ]
  },
  {
   "cell_type": "code",
   "execution_count": 20,
   "metadata": {
    "collapsed": true
   },
   "outputs": [],
   "source": [
    "acmmensal = acmmensal.sum() # acumulado mensal"
   ]
  },
  {
   "cell_type": "code",
   "execution_count": 21,
   "metadata": {
    "collapsed": true
   },
   "outputs": [],
   "source": [
    "prpmensal = acmmensal['precipitacao']"
   ]
  },
  {
   "cell_type": "code",
   "execution_count": 22,
   "metadata": {},
   "outputs": [
    {
     "data": {
      "text/plain": [
       "(12,)"
      ]
     },
     "execution_count": 22,
     "metadata": {},
     "output_type": "execute_result"
    }
   ],
   "source": [
    "prpmensal.shape"
   ]
  },
  {
   "cell_type": "markdown",
   "metadata": {},
   "source": [
    "## Normal Climatológica de Acumulado de Precipitação \n",
    "\n",
    "Fonte: INMET"
   ]
  },
  {
   "cell_type": "code",
   "execution_count": 23,
   "metadata": {
    "collapsed": true
   },
   "outputs": [],
   "source": [
    "normal = np.array([287., 295.1, 300., 319., 246.9, 118.3,\n",
    "                   75.4, 64.3, 76.3, 104.1, 169.2, 245.6]) "
   ]
  },
  {
   "cell_type": "markdown",
   "metadata": {},
   "source": [
    "## Plotar Gráficos"
   ]
  },
  {
   "cell_type": "code",
   "execution_count": 24,
   "metadata": {
    "collapsed": true
   },
   "outputs": [],
   "source": [
    "sns.set(style='darkgrid')\n",
    "\n",
    "x = np.arange(len(prpmensal))\n",
    "width = 0.3\n",
    "\n",
    "meses = ['JAN', 'FEV', 'MAR', 'ABR', 'MAI', 'JUN',\n",
    "         'JUL', 'AGO', 'SET', 'OUT', 'NOV', 'DEZ']"
   ]
  },
  {
   "cell_type": "code",
   "execution_count": 25,
   "metadata": {},
   "outputs": [
    {
     "data": {
      "image/png": "[encoded data removed]",
      "text/plain": [
       "<Figure size 720x360 with 1 Axes>"
      ]
     },
     "metadata": {},
     "output_type": "display_data"
    }
   ],
   "source": [
    "fig, ax = plt.subplots(figsize=(10,5))\n",
    "\n",
    "obs = ax.bar(x- 0.2, prpmensal, width, color='blue',align='center')\n",
    "nrm = ax.bar(x+ 0.2, normal, width, color='red', align='center')\n",
    "\n",
    "ax.legend( (obs[0], nrm[0]),\n",
    "           ('Observado', 'Normal Climatológica'),\n",
    "           fontsize=11\n",
    "         )\n",
    "\n",
    "plt.xticks(x, meses)\n",
    "\n",
    "plt.ylabel('Precipitação (mm/mês)')\n",
    "\n",
    "plt.title('Precipitação Acumulada em Manaus/AM em 2018 - Estação INMET')\n",
    "\n",
    "plt.tight_layout()\n",
    "plt.savefig('prpmao2018.png', dpi=300)\n",
    "plt.show()"
   ]
  },
  {
   "cell_type": "code",
   "execution_count": null,
   "metadata": {
    "collapsed": true
   },
   "outputs": [],
   "source": []
  }
 ],
 "metadata": {
  "kernelspec": {
   "display_name": "Python 3",
   "language": "python",
   "name": "python3"
  },
  "language_info": {
   "codemirror_mode": {
    "name": "ipython",
    "version": 3
   },
   "file_extension": ".py",
   "mimetype": "text/x-python",
   "name": "python",
   "nbconvert_exporter": "python",
   "pygments_lexer": "ipython3",
   "version": "3.6.6"
  }
 },
 "nbformat": 4,
 "nbformat_minor": 2
}
