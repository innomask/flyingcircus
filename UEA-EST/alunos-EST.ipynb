{
 "cells": [
  {
   "cell_type": "code",
   "execution_count": 1,
   "metadata": {
    "collapsed": true
   },
   "outputs": [],
   "source": [
    "import pandas  as pd\n",
    "import seaborn as sns\n",
    "import numpy   as np\n",
    "import matplotlib.pyplot as plt"
   ]
  },
  {
   "cell_type": "code",
   "execution_count": 2,
   "metadata": {
    "collapsed": true
   },
   "outputs": [],
   "source": [
    "sns.set(style='ticks')"
   ]
  },
  {
   "cell_type": "markdown",
   "metadata": {},
   "source": [
    "## Abrir arquivo"
   ]
  },
  {
   "cell_type": "code",
   "execution_count": 3,
   "metadata": {
    "collapsed": true
   },
   "outputs": [],
   "source": [
    "alunos = pd.read_excel('alunosEST.xlsx', sheet_name='Meteorologia')"
   ]
  },
  {
   "cell_type": "code",
   "execution_count": 4,
   "metadata": {
    "scrolled": true
   },
   "outputs": [
    {
     "data": {
      "text/html": [
       "<div>\n",
       "<style scoped>\n",
       "    .dataframe tbody tr th:only-of-type {\n",
       "        vertical-align: middle;\n",
       "    }\n",
       "\n",
       "    .dataframe tbody tr th {\n",
       "        vertical-align: top;\n",
       "    }\n",
       "\n",
       "    .dataframe thead th {\n",
       "        text-align: right;\n",
       "    }\n",
       "</style>\n",
       "<table border=\"1\" class=\"dataframe\">\n",
       "  <thead>\n",
       "    <tr style=\"text-align: right;\">\n",
       "      <th></th>\n",
       "      <th>Ano</th>\n",
       "      <th>Ativos</th>\n",
       "      <th>Desistentes</th>\n",
       "      <th>Formados</th>\n",
       "      <th>Total</th>\n",
       "    </tr>\n",
       "  </thead>\n",
       "  <tbody>\n",
       "    <tr>\n",
       "      <th>0</th>\n",
       "      <td>2006</td>\n",
       "      <td>0</td>\n",
       "      <td>42</td>\n",
       "      <td>5</td>\n",
       "      <td>47</td>\n",
       "    </tr>\n",
       "    <tr>\n",
       "      <th>1</th>\n",
       "      <td>2007</td>\n",
       "      <td>1</td>\n",
       "      <td>43</td>\n",
       "      <td>4</td>\n",
       "      <td>48</td>\n",
       "    </tr>\n",
       "    <tr>\n",
       "      <th>2</th>\n",
       "      <td>2008</td>\n",
       "      <td>2</td>\n",
       "      <td>36</td>\n",
       "      <td>10</td>\n",
       "      <td>48</td>\n",
       "    </tr>\n",
       "    <tr>\n",
       "      <th>3</th>\n",
       "      <td>2009</td>\n",
       "      <td>1</td>\n",
       "      <td>42</td>\n",
       "      <td>6</td>\n",
       "      <td>49</td>\n",
       "    </tr>\n",
       "    <tr>\n",
       "      <th>4</th>\n",
       "      <td>2010</td>\n",
       "      <td>1</td>\n",
       "      <td>41</td>\n",
       "      <td>7</td>\n",
       "      <td>49</td>\n",
       "    </tr>\n",
       "  </tbody>\n",
       "</table>\n",
       "</div>"
      ],
      "text/plain": [
       "    Ano  Ativos  Desistentes  Formados  Total\n",
       "0  2006       0           42         5     47\n",
       "1  2007       1           43         4     48\n",
       "2  2008       2           36        10     48\n",
       "3  2009       1           42         6     49\n",
       "4  2010       1           41         7     49"
      ]
     },
     "execution_count": 4,
     "metadata": {},
     "output_type": "execute_result"
    }
   ],
   "source": [
    "alunos.head()"
   ]
  },
  {
   "cell_type": "markdown",
   "metadata": {},
   "source": [
    "## Extrair variáveis"
   ]
  },
  {
   "cell_type": "code",
   "execution_count": 5,
   "metadata": {},
   "outputs": [],
   "source": [
    "ano         =  alunos['Ano']\n",
    "ativos      =  alunos['Ativos']\n",
    "desistentes =  alunos['Desistentes']\n",
    "formados    =  alunos['Formados']\n",
    "total       =  alunos['Total']"
   ]
  },
  {
   "cell_type": "markdown",
   "metadata": {},
   "source": [
    "## Plotar"
   ]
  },
  {
   "cell_type": "markdown",
   "metadata": {},
   "source": [
    "### Fig.1: Total de Alunos, Alunos Ativos e Alunos Desistentes ao longo do tempo. "
   ]
  },
  {
   "cell_type": "code",
   "execution_count": 6,
   "metadata": {
    "scrolled": false
   },
   "outputs": [
    {
     "data": {
      "image/png": "[encoded data removed]",
      "text/plain": [
       "<Figure size 792x396 with 1 Axes>"
      ]
     },
     "metadata": {},
     "output_type": "display_data"
    }
   ],
   "source": [
    "width = 0.3\n",
    "\n",
    "fig, ax = plt.subplots(figsize=(11,5.5))\n",
    "\n",
    "tot  =  ax.bar(ano, total, width, \n",
    "        color='k', align='center')\n",
    "\n",
    "atv  =  ax.bar(ano - width, ativos,  width,\n",
    "             color='b',align='center')\n",
    "\n",
    "des  =  ax.bar(ano + width, desistentes, width,\n",
    "                color='r',align='center')\n",
    "\n",
    "\n",
    "ax.set_xlabel('Anos', fontsize=16)\n",
    "ax.set_ylabel(r'Número de Alunos', fontsize=16)\n",
    "ax.set_title(r'Meteorologia', fontsize=16)\n",
    "\n",
    "ax.set_xticks(ano)\n",
    "ax.set_xticklabels(ano, fontsize=14)\n",
    "\n",
    "ax.set_yticks(np.arange(0,80,10))\n",
    "ax.set_yticklabels(np.arange(0,80,10), fontsize=14)\n",
    "\n",
    "\n",
    "ax.legend((atv[0], tot[0], des[0]),\n",
    "        ('Ativos', 'Total', 'Desistentes'),\n",
    "        fontsize=11 )\n",
    "\n",
    "\n",
    "plt.tight_layout()\n",
    "plt.savefig('meteorologia_total.png',format='png', dpi=300) \n",
    "plt.show()"
   ]
  },
  {
   "cell_type": "markdown",
   "metadata": {},
   "source": [
    "### Fig.2: Alunos Ativos, Formados e Desistentes ao longo do tempo."
   ]
  },
  {
   "cell_type": "code",
   "execution_count": 7,
   "metadata": {},
   "outputs": [
    {
     "data": {
      "image/png": "[encoded data removed]",
      "text/plain": [
       "<Figure size 792x396 with 1 Axes>"
      ]
     },
     "metadata": {},
     "output_type": "display_data"
    }
   ],
   "source": [
    "width = 0.3\n",
    "\n",
    "fig, ax = plt.subplots(figsize=(11,5.5))\n",
    "\n",
    "frm  =  ax.bar(ano,formados, width, \n",
    "               color='g', align='center')\n",
    "\n",
    "atv  =  ax.bar(ano - width, ativos,  width,\n",
    "               color='b',align='center')\n",
    "\n",
    "des  =  ax.bar(ano + width, desistentes, width,\n",
    "               color='r',align='center')\n",
    "\n",
    "\n",
    "ax.set_xlabel('Anos', fontsize=16)\n",
    "ax.set_ylabel(r'Número de Alunos', fontsize=16)\n",
    "ax.set_title(r'Meteorologia: Ativos, Formados e Desistentes', fontsize=16)\n",
    "\n",
    "ax.set_xticks(ano)\n",
    "ax.set_xticklabels(ano, fontsize=14)\n",
    "\n",
    "ax.set_yticks(np.arange(0,60,10))\n",
    "ax.set_yticklabels(np.arange(0,60,10), fontsize=14)\n",
    "\n",
    "\n",
    "ax.legend((atv[0], frm[0], des[0]),\n",
    "        ('Ativos', 'Formados', 'Desistentes'),\n",
    "        fontsize=11 )\n",
    "\n",
    "\n",
    "plt.tight_layout()\n",
    "plt.savefig('meteorologia_afd.png',format='png', dpi=300) \n",
    "plt.show()"
   ]
  },
  {
   "cell_type": "markdown",
   "metadata": {},
   "source": [
    "### Fig.3: Alunos Formados ao longo do tempo."
   ]
  },
  {
   "cell_type": "code",
   "execution_count": 8,
   "metadata": {
    "scrolled": true
   },
   "outputs": [
    {
     "data": {
      "image/png": "[encoded data removed]",
      "text/plain": [
       "<Figure size 792x396 with 1 Axes>"
      ]
     },
     "metadata": {},
     "output_type": "display_data"
    }
   ],
   "source": [
    "width = 0.3\n",
    "\n",
    "fig, ax = plt.subplots(figsize=(11,5.5))\n",
    "\n",
    "tot  =  ax.bar(ano, total, width, \n",
    "        color='k', align='center')\n",
    "\n",
    "frm  =  ax.bar(ano - width, formados,  width,\n",
    "             color='g',align='center')\n",
    "\n",
    "\n",
    "\n",
    "ax.set_xlabel('Anos', fontsize=16)\n",
    "ax.set_ylabel(r'Número de Alunos', fontsize=16)\n",
    "ax.set_title(r'Meteorologia: Alunos Formados', fontsize=16)\n",
    "\n",
    "ax.set_xticks(ano)\n",
    "ax.set_xticklabels(ano, fontsize=14)\n",
    "\n",
    "ax.set_yticks(np.arange(0,60,10))\n",
    "ax.set_yticklabels(np.arange(0,60,10), fontsize=14)\n",
    "\n",
    "# até agora (jan/2019) as turmas de 2015 são as últimas com possibilidade de formação\n",
    "ax.set_xlim(2005.1 ,2015.5)\n",
    "\n",
    "ax.legend((frm[0], tot[0]),\n",
    "        ('Formados', 'Total'),\n",
    "        fontsize=11 )\n",
    "\n",
    "\n",
    "plt.tight_layout()\n",
    "plt.savefig('meteorologia_formados.png',format='png', dpi=300) \n",
    "plt.show()"
   ]
  },
  {
   "cell_type": "markdown",
   "metadata": {},
   "source": [
    "# Índices"
   ]
  },
  {
   "cell_type": "markdown",
   "metadata": {},
   "source": [
    "## Índice de Formação"
   ]
  },
  {
   "cell_type": "code",
   "execution_count": 9,
   "metadata": {
    "collapsed": true
   },
   "outputs": [],
   "source": [
    "indform = formados[0:10].sum() / total[0:10].sum()"
   ]
  },
  {
   "cell_type": "code",
   "execution_count": 10,
   "metadata": {},
   "outputs": [
    {
     "name": "stdout",
     "output_type": "stream",
     "text": [
      "Índice de Formação (%): 9.245742092457421\n"
     ]
    }
   ],
   "source": [
    "print('Índice de Formação (%):', indform * 100)"
   ]
  },
  {
   "cell_type": "markdown",
   "metadata": {},
   "source": [
    "## Índice de Desistência"
   ]
  },
  {
   "cell_type": "code",
   "execution_count": 11,
   "metadata": {
    "collapsed": true
   },
   "outputs": [],
   "source": [
    "inddes = desistentes.sum() / total.sum()"
   ]
  },
  {
   "cell_type": "code",
   "execution_count": 12,
   "metadata": {},
   "outputs": [
    {
     "name": "stdout",
     "output_type": "stream",
     "text": [
      "Índice de Desistência (%): 74.95361781076066\n"
     ]
    }
   ],
   "source": [
    "print('Índice de Desistência (%):', inddes * 100)"
   ]
  },
  {
   "cell_type": "markdown",
   "metadata": {},
   "source": [
    "## Média de Alunos por Turma"
   ]
  },
  {
   "cell_type": "code",
   "execution_count": 13,
   "metadata": {
    "collapsed": true
   },
   "outputs": [],
   "source": [
    "alunosturma = total.sum() / 13"
   ]
  },
  {
   "cell_type": "code",
   "execution_count": 14,
   "metadata": {},
   "outputs": [
    {
     "name": "stdout",
     "output_type": "stream",
     "text": [
      "Média de Alunos por Turma: 41.46153846153846\n"
     ]
    }
   ],
   "source": [
    "print('Média de Alunos por Turma:', alunosturma)"
   ]
  },
  {
   "cell_type": "markdown",
   "metadata": {},
   "source": [
    "## Média de Desistentes por Turma"
   ]
  },
  {
   "cell_type": "code",
   "execution_count": 15,
   "metadata": {
    "collapsed": true
   },
   "outputs": [],
   "source": [
    "desistentesturma = desistentes.sum() / 13"
   ]
  },
  {
   "cell_type": "code",
   "execution_count": 16,
   "metadata": {},
   "outputs": [
    {
     "name": "stdout",
     "output_type": "stream",
     "text": [
      "Média de Desistentes por Turma: 31.076923076923077\n"
     ]
    }
   ],
   "source": [
    "print('Média de Desistentes por Turma:', desistentesturma)"
   ]
  }
 ],
 "metadata": {
  "kernelspec": {
   "display_name": "Python 3",
   "language": "python",
   "name": "python3"
  },
  "language_info": {
   "codemirror_mode": {
    "name": "ipython",
    "version": 3
   },
   "file_extension": ".py",
   "mimetype": "text/x-python",
   "name": "python",
   "nbconvert_exporter": "python",
   "pygments_lexer": "ipython3",
   "version": "3.6.6"
  }
 },
 "nbformat": 4,
 "nbformat_minor": 2
}
